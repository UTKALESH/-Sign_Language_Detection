{
 "cells": [
  {
   "cell_type": "markdown",
   "id": "6b884577",
   "metadata": {},
   "source": [
    "# Sign Language Recognition Model Training"
   ]
  },
  {
   "cell_type": "markdown",
   "id": "dd342b67",
   "metadata": {},
   "source": [
    "## 1. Imports"
   ]
  },
  {
   "cell_type": "code",
   "execution_count": null,
   "id": "b61343e8",
   "metadata": {},
   "outputs": [],
   "source": [
    "import tensorflow as tf\n",
    "from tensorflow.keras.models import Sequential\n",
    "from tensorflow.keras.layers import Conv2D, MaxPooling2D, Flatten, Dense, Dropout, BatchNormalization\n",
    "from tensorflow.keras.preprocessing.image import ImageDataGenerator\n",
    "from tensorflow.keras.callbacks import ModelCheckpoint, EarlyStopping\n",
    "import numpy as np\n",
    "import matplotlib.pyplot as plt\n",
    "import seaborn as sns\n",
    "from sklearn.metrics import classification_report, confusion_matrix\n",
    "import os\n",
    "import time"
   ]
  },
  {
   "cell_type": "markdown",
   "id": "901ba425",
   "metadata": {},
   "source": [
    "## 2. Configuration"
   ]
  },
  {
   "cell_type": "code",
   "execution_count": null,
   "id": "bfa0eaf8",
   "metadata": {},
   "outputs": [],
   "source": [
    "IMG_HEIGHT = 64\n",
    "IMG_WIDTH = 64\n",
    "BATCH_SIZE = 32\n",
    "EPOCHS = 50\n",
    "TRAIN_DATA_DIR = 'data/train'\n",
    "TEST_DATA_DIR = 'data/test'\n",
    "MODEL_SAVE_PATH = 'saved_model/sign_language_model.keras'\n",
    "NUM_CLASSES = len(os.listdir(TRAIN_DATA_DIR))\n",
    "CLASS_NAMES = sorted(os.listdir(TRAIN_DATA_DIR))\n",
    "\n",
    "print(f\"Found {NUM_CLASSES} classes: {CLASS_NAMES}\")"
   ]
  },
  {
   "cell_type": "markdown",
   "id": "5f8b1067",
   "metadata": {},
   "source": [
    "## 3. Data Preparation"
   ]
  },
  {
   "cell_type": "code",
   "execution_count": null,
   "id": "04566fa7",
   "metadata": {},
   "outputs": [],
   "source": [
    "train_datagen = ImageDataGenerator(\n",
    "    rescale=1./255,\n",
    "    rotation_range=20,\n",
    "    width_shift_range=0.2,\n",
    "    height_shift_range=0.2,\n",
    "    shear_range=0.2,\n",
    "    zoom_range=0.2,\n",
    "    horizontal_flip=True,\n",
    "    fill_mode='nearest',\n",
    "    validation_split=0.2\n",
    ")\n",
    "\n",
    "test_datagen = ImageDataGenerator(rescale=1./255)\n",
    "\n",
    "print(\"Loading training data...\")\n",
    "train_generator = train_datagen.flow_from_directory(\n",
    "    TRAIN_DATA_DIR,\n",
    "    target_size=(IMG_HEIGHT, IMG_WIDTH),\n",
    "    batch_size=BATCH_SIZE,\n",
    "    class_mode='categorical',\n",
    "    subset='training',\n",
    "    color_mode='rgb'\n",
    ")\n",
    "\n",
    "print(\"Loading validation data...\")\n",
    "validation_generator = train_datagen.flow_from_directory(\n",
    "    TRAIN_DATA_DIR,\n",
    "    target_size=(IMG_HEIGHT, IMG_WIDTH),\n",
    "    batch_size=BATCH_SIZE,\n",
    "    class_mode='categorical',\n",
    "    subset='validation',\n",
    "    color_mode='rgb'\n",
    ")\n",
    "\n",
    "print(\"Loading test data...\")\n",
    "test_generator = test_datagen.flow_from_directory(\n",
    "    TEST_DATA_DIR,\n",
    "    target_size=(IMG_HEIGHT, IMG_WIDTH),\n",
    "    batch_size=1,\n",
    "    class_mode='categorical',\n",
    "    shuffle=False,\n",
    "    color_mode='rgb'\n",
    ")"
   ]
  },
  {
   "cell_type": "markdown",
   "id": "a2c9b38e",
   "metadata": {},
   "source": [
    "## 4. Model Building"
   ]
  },
  {
   "cell_type": "code",
   "execution_count": null,
   "id": "48a9a4f1",
   "metadata": {},
   "outputs": [],
   "source": [
    "input_shape = (IMG_HEIGHT, IMG_WIDTH, 3 if train_generator.color_mode == 'rgb' else 1)\n",
    "print(f\"Input shape: {input_shape}\")\n",
    "\n",
    "model = Sequential([\n",
    "    Conv2D(32, (3, 3), activation='relu', input_shape=input_shape),\n",
    "    BatchNormalization(),\n",
    "    MaxPooling2D((2, 2)),\n",
    "\n",
    "    Conv2D(64, (3, 3), activation='relu'),\n",
    "    BatchNormalization(),\n",
    "    MaxPooling2D((2, 2)),\n",
    "\n",
    "    Conv2D(128, (3, 3), activation='relu'),\n",
    "    BatchNormalization(),\n",
    "    MaxPooling2D((2, 2)),\n",
    "\n",
    "    Flatten(),\n",
    "\n",
    "    Dense(128, activation='relu'),\n",
    "    BatchNormalization(),\n",
    "    Dropout(0.5),\n",
    "\n",
    "    Dense(NUM_CLASSES, activation='softmax')\n",
    "])\n",
    "\n",
    "model.summary()"
   ]
  },
  {
   "cell_type": "markdown",
   "id": "514a7fba",
   "metadata": {},
   "source": [
    "## 5. Model Compilation"
   ]
  },
  {
   "cell_type": "code",
   "execution_count": null,
   "id": "e376111b",
   "metadata": {},
   "outputs": [],
   "source": [
    "model.compile(optimizer='adam',\n",
    "              loss='categorical_crossentropy',\n",
    "              metrics=['accuracy'])\n",
    "\n",
    "checkpoint = ModelCheckpoint(MODEL_SAVE_PATH, monitor='val_accuracy', verbose=1,\n",
    "                             save_best_only=True, mode='max')\n",
    "\n",
    "early_stopping = EarlyStopping(monitor='val_loss', patience=10, verbose=1,\n",
    "                               restore_best_weights=True)"
   ]
  },
  {
   "cell_type": "markdown",
   "id": "8df9f70d",
   "metadata": {},
   "source": [
    "## 6. Model Training"
   ]
  },
  {
   "cell_type": "code",
   "execution_count": null,
   "id": "16bb7d23",
   "metadata": {},
   "outputs": [],
   "source": [
    "print(\"Starting training...\")\n",
    "start_time = time.time()\n",
    "\n",
    "history = model.fit(\n",
    "    train_generator,\n",
    "    steps_per_epoch=train_generator.samples // BATCH_SIZE,\n",
    "    validation_data=validation_generator,\n",
    "    validation_steps=validation_generator.samples // BATCH_SIZE,\n",
    "    epochs=EPOCHS,\n",
    "    callbacks=[checkpoint, early_stopping]\n",
    ")\n",
    "\n",
    "training_time = time.time() - start_time\n",
    "print(f\"Training finished in {training_time:.2f} seconds.\")"
   ]
  },
  {
   "cell_type": "markdown",
   "id": "60f7a317",
   "metadata": {},
   "source": [
    "## 7. Model Evaluation"
   ]
  },
  {
   "cell_type": "code",
   "execution_count": null,
   "id": "bb2f09e9",
   "metadata": {},
   "outputs": [],
   "source": [
    "print(\"\\nEvaluating on Test Data...\")\n",
    "test_loss, test_acc = model.evaluate(test_generator, steps=test_generator.samples // test_generator.batch_size)\n",
    "print(f'\\nTest Accuracy: {test_acc:.4f}')\n",
    "print(f'Test Loss: {test_loss:.4f}')\n",
    "\n",
    "if test_acc < 0.70:\n",
    "     print(\"\\nWARNING: Model accuracy is below the 70% minimum requirement!\")\n",
    "else:\n",
    "     print(\"\\nModel accuracy meets the minimum 70% requirement.\")"
   ]
  },
  {
   "cell_type": "markdown",
   "id": "b928ce04",
   "metadata": {},
   "source": [
    "## 8. Predictions and Reports"
   ]
  },
  {
   "cell_type": "code",
   "execution_count": null,
   "id": "efb7c138",
   "metadata": {},
   "outputs": [],
   "source": [
    "print(\"\\nGenerating Classification Report and Confusion Matrix...\")\n",
    "\n",
    "test_generator.reset()\n",
    "Y_pred = model.predict(test_generator, steps=test_generator.samples // test_generator.batch_size + 1)\n",
    "y_pred_classes = np.argmax(Y_pred, axis=1)\n",
    "y_true = test_generator.classes\n",
    "\n",
    "if len(y_pred_classes) != len(y_true):\n",
    "    print(f\"Warning: Mismatch in prediction ({len(y_pred_classes)}) and true label ({len(y_true)}) counts. Truncating predictions.\")\n",
    "    y_pred_classes = y_pred_classes[:len(y_true)]\n",
    "\n",
    "print('\\nClassification Report:')\n",
    "print(classification_report(y_true, y_pred_classes, target_names=CLASS_NAMES))\n",
    "\n",
    "print('\\nConfusion Matrix:')\n",
    "cm = confusion_matrix(y_true, y_pred_classes)\n",
    "print(cm)"
   ]
  },
  {
   "cell_type": "markdown",
   "id": "ce2b53f4",
   "metadata": {},
   "source": [
    "## 9. Visualization"
   ]
  },
  {
   "cell_type": "code",
   "execution_count": null,
   "id": "494f6988",
   "metadata": {},
   "outputs": [],
   "source": [
    "plt.figure(figsize=(10, 8))\n",
    "sns.heatmap(cm, annot=True, fmt=\"d\", cmap=\"Blues\", xticklabels=CLASS_NAMES, yticklabels=CLASS_NAMES)\n",
    "plt.title('Confusion Matrix')\n",
    "plt.ylabel('Actual Class')\n",
    "plt.xlabel('Predicted Class')\n",
    "plt.savefig('confusion_matrix.png')\n",
    "\n",
    "print(\"\\nConfusion matrix saved as confusion_matrix.png\")\n",
    "\n",
    "print(f\"\\nModel training complete. Best model saved to {MODEL_SAVE_PATH}\")\n",
    "print(\"Please ensure your dataset was sufficiently large and diverse for good real-world performance.\")"
   ]
  }
 ],
 "metadata": {},
 "nbformat": 4,
 "nbformat_minor": 5
}
